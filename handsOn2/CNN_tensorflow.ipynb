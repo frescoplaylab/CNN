{
 "cells": [
  {
   "cell_type": "markdown",
   "metadata": {},
   "source": [
    "### In this hands-on you will be performing CNN operations using TensorFlow package"
   ]
  },
  {
   "cell_type": "markdown",
   "metadata": {},
   "source": [
    "- Run the below cell to import necessary packages"
   ]
  },
  {
   "cell_type": "code",
   "execution_count": null,
   "metadata": {},
   "outputs": [],
   "source": [
    "import matplotlib.pyplot as plt\n",
    "import matplotlib.image as mpimg\n",
    "import numpy as np\n",
    "import tensorflow as tf"
   ]
  },
  {
   "cell_type": "markdown",
   "metadata": {},
   "source": [
    "- Read the image file 'bird.jpeg'(in current directory) using **mpimg.imread(\"file_path\")** function provided by matplotlib.image module. This function reads the image and returns the pixel intensities in numpy format. Assign this result to variable **img**.\n",
    "- The dimension of **img** will now be $n_H$ x $n_w$ x $n_c$\n",
    "- reshape **img** to dimension $m$ x $n_H$ x $n_w$ x $n_c$ and assign it to variable **data**. The dimension **m** will be **one** since we are dealing with one image data. (use numpy's reshape())"
   ]
  },
  {
   "cell_type": "code",
   "execution_count": null,
   "metadata": {},
   "outputs": [],
   "source": [
    "img = mpimg.imread('bird.jpeg')\n",
    "print(type(img))\n",
    "print(\"Image dimension \",img.shape)\n",
    "print(img.shape)\n",
    "data = img[:,:,:].reshape(1,194,259,3)\n",
    "print(\"input data dimension \", data.shape)"
   ]
  },
  {
   "cell_type": "markdown",
   "metadata": {},
   "source": [
    "- Run the below cell to plot the image"
   ]
  },
  {
   "cell_type": "code",
   "execution_count": null,
   "metadata": {},
   "outputs": [],
   "source": [
    "plt.imshow(data[0,:,:,:])"
   ]
  },
  {
   "cell_type": "markdown",
   "metadata": {},
   "source": [
    "### Single layer convolution\n",
    "- Initialise filter variable W each with random values using tf.random_normal()\n",
    "  - filter configurations:\n",
    "    - num_filters = 32\n",
    "    - num_rows, num_columns, num_channels = 5,5,3 \n",
    "- initilze bias variable using tf.random_normal() of shape 32\n",
    "\n",
    "- using tf.nn.conv2d() perform strided convolution on **input_** using filter **W** of stride one and same padding, assign the result to variable **conv**\n",
    "- use tf.nn.bias_add() to add biase **b** to vector **conv** and assign the result to variable **conv_bias**\n",
    "- apply relu activation on vector **conv_bias** and assign it to variable **conv_out**\n",
    "- perform max pooling using tf.nn.pool() using filter of size 3 x 3 and valid padding"
   ]
  },
  {
   "cell_type": "code",
   "execution_count": null,
   "metadata": {},
   "outputs": [],
   "source": [
    "graph = tf.Graph()   \n",
    "with graph.as_default():\n",
    "    tf.set_random_seed(1)\n",
    "    input_= tf.constant(data.astype(np.float32))  ##The input data is coverted into tensor of type float32\n",
    "    ###Start code here\n",
    "    W = \n",
    "    b = \n",
    "    \n",
    "     \n",
    "    conv = \n",
    "    conv_bias = \n",
    "    conv_out = \n",
    "    conv_pool = \n",
    "    ###ENd code"
   ]
  },
  {
   "cell_type": "markdown",
   "metadata": {},
   "source": [
    "- Run the below cell to run the tensorflow graph defined in the above steps\n",
    "\n",
    "Expected output  \n",
    "Tensor(\"Relu:0\", shape=(1, 194, 259, 32), dtype=float32)\n",
    "\n",
    "Tensor(\"max_pool:0\", shape=(1, 192, 257, 32), dtype=float32)  \n",
    "\n",
    "[[169.19849 239.264   243.78383 199.24991 221.47708]  \n",
    " [257.10614 264.71    329.7318  268.09598 202.37561]  \n",
    " [270.35233 263.85138 300.23892 201.36992 156.39926]  \n",
    " [147.51581 180.1401  219.85764 224.4273  239.723  ]  \n",
    " [119.10833 209.67384 216.4677  276.01907 353.46246]]  \n",
    "  \n",
    " [[329.7318  329.7318  329.7318  273.27444 316.57968]  \n",
    " [329.7318  329.7318  329.7318  273.27444 316.57968]  \n",
    " [300.23892 300.23892 353.46246 353.46246 353.46246]  \n",
    " [292.92957 292.92957 359.3247  359.3247  381.27603]  \n",
    " [315.04044 292.92957 405.957   418.59485 418.59485]]  "
   ]
  },
  {
   "cell_type": "code",
   "execution_count": null,
   "metadata": {},
   "outputs": [],
   "source": [
    "with tf.Session(graph=graph) as sess:\n",
    "    sess.run(tf.global_variables_initializer())\n",
    "    filters = sess.run(W)\n",
    "    \n",
    "    conv_output = sess.run(conv_out)\n",
    "    \n",
    "    after_pooling = sess.run(conv_pool)\n",
    "\n",
    "###sanity check\n",
    "print(conv_out)\n",
    "print(conv_pool)\n",
    "print(conv_output[0,100:105,200:205, 7])\n",
    "print(\"\\n\", after_pooling[0,100:105,200:205, 7])\n",
    "\n",
    "print(np.mean(conv_output))\n",
    "print(np.mean(after_pooling))\n",
    "with open(\"output.txt\", \"w+\") as file:\n",
    "    file.write(\"mean1 = %f\" %np.mean(conv_output))\n",
    "    file.write(\"\\nmean2 = %f\" %np.mean(after_pooling))"
   ]
  },
  {
   "cell_type": "markdown",
   "metadata": {},
   "source": [
    "- Run the below cell to visualize the actual filters and plot the convolution output.       "
   ]
  },
  {
   "cell_type": "code",
   "execution_count": null,
   "metadata": {},
   "outputs": [],
   "source": [
    "def show_conv_results(data, title):\n",
    "    fig1 = plt.figure()\n",
    "    fig1.suptitle(title, fontsize=30)\n",
    "    rows, cols = 4, 8\n",
    "    for i in range(np.shape(data)[3]):\n",
    "        img = data[0, :, :, i]\n",
    "        ax1 = fig1.add_subplot(rows, cols, i + 1)\n",
    "        ax1.imshow(img, interpolation='none')\n",
    "        ax1.axis('off')\n",
    "        \n",
    "\n",
    "def show_weights(W,title):\n",
    "    fig2 = plt.figure()\n",
    "    fig2.suptitle(title, fontsize=30)\n",
    "    rows, cols = 4, 8\n",
    "    for i in range(np.shape(W)[3]):\n",
    "        img = W[:, :, 0, i]\n",
    "        ax2 = fig2.add_subplot(rows, cols, i + 1)\n",
    "        ax2.imshow(img, interpolation='none')\n",
    "        ax2.axis('off')\n",
    "\n",
    "show_weights(filters, title = \"filters, \"+\"shape:\" +str(filters.shape))\n",
    "show_conv_results(conv_output, title = \"after_convolution, \"+ \"shape:\" + str(conv_output.shape))\n",
    "show_conv_results(after_pooling, title = \"after_pooling, \"+\"shape:\"+str(after_pooling.shape))\n",
    "        "
   ]
  }
 ],
 "metadata": {
  "kernelspec": {
   "display_name": "Python 3",
   "language": "python",
   "name": "python3"
  },
  "language_info": {
   "codemirror_mode": {
    "name": "ipython",
    "version": 3
   },
   "file_extension": ".py",
   "mimetype": "text/x-python",
   "name": "python",
   "nbconvert_exporter": "python",
   "pygments_lexer": "ipython3",
   "version": "3.6.4"
  }
 },
 "nbformat": 4,
 "nbformat_minor": 2
}
